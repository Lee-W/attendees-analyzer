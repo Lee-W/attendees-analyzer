{
 "cells": [
  {
   "cell_type": "markdown",
   "metadata": {},
   "source": [
    "## Regular Expression (= Regex) Cheatsheet "
   ]
  },
  {
   "cell_type": "markdown",
   "metadata": {},
   "source": [
    "Regular expression is used to find a set of patterns in a string (specific term, an email address, a specific format of string.)\n",
    "Documentation of regex in python: https://docs.python.org/3.6/library/re.html"
   ]
  },
  {
   "cell_type": "markdown",
   "metadata": {},
   "source": [
    "### There are a few common ways to use regex, such as \n",
    "| Function | Definition | Return data type |\n",
    "| --- | --- | --- |\n",
    "| re.findall(pattern, text) | find all occurance | **a list** |\n",
    "| re.split(pattern, text)    | This split the text with the pattern | **a list**|\n",
    "| re.search(pattern, text)  |  This search the pattern occur in anyplace in the text. | match.object|\n",
    "|re.match(pattern, text)    | It returns only the \"Beginning\" matched texts.| match.object|\n",
    "|re.fullmatch(pattern, text)| It returns only the full match.|match.object|\n",
    "| re.sub**(pattern,repl, text)** | This replace the pattern in text with \"repl(acement)\"|match.object|\n"
   ]
  },
  {
   "cell_type": "code",
   "execution_count": null,
   "metadata": {
    "collapsed": true
   },
   "outputs": [],
   "source": [
    "import re"
   ]
  },
  {
   "cell_type": "code",
   "execution_count": 11,
   "metadata": {
    "collapsed": true
   },
   "outputs": [],
   "source": [
    "# Create a text we will be using through out the following examples.\n",
    "text = \"A grey Woodchunk chunk gray wood as his work. Haha! 2-345+10-\""
   ]
  },
  {
   "cell_type": "code",
   "execution_count": 24,
   "metadata": {},
   "outputs": [
    {
     "name": "stdout",
     "output_type": "stream",
     "text": [
      "['Wood', 'wood']\n",
      "<_sre.SRE_Match object; span=(7, 11), match='Wood'>\n"
     ]
    }
   ],
   "source": [
    "# Quick try:\n",
    "pattern1 = \"[Ww]ood\"\n",
    "print(re.findall(pattern1, text))\n",
    "print(re.search(pattern1, text))"
   ]
  },
  {
   "cell_type": "markdown",
   "metadata": {},
   "source": [
    "### There are \"literals\" and \"meta_characters\"\n",
    "* Literals: No special meanings, read as normal text\n",
    "* Metacharacters: With special meanings. They are not read as normal text anymore.\n",
    "* Meta characters = [] {} () | ? + - * ^ $ \\ .\n",
    "* To read metacharacters \"literally\" you have to add an \"\\\" infront of each of them.\n",
    "* OR, put them in [ ] <-- This is a character class."
   ]
  },
  {
   "cell_type": "markdown",
   "metadata": {},
   "source": [
    "### 1. Character classes: \n",
    "\n",
    "* Everything in the [ ] are read as literals.    \n",
    "* [abc0-9] <--- this is a character class. Match to \"one\" character. **\n",
    "* ^ and | are used in character class. \n",
    "* \"^\" means: not\n",
    "* \"|\" means: or  = Alternatives. Match one or another.\n",
    "\n",
    "#### There are also pre-defined python character classes\n",
    "|python character classes |**Meanings**|regex character classes|\n",
    "|---|---|---|\n",
    "|. | every characters. including meta characters|(none)|\n",
    "|\\d| digit    |  **[0-9]**|\n",
    "|\\D| non digit| **[^0-9]**|\n",
    "|\\s| whitespace characters ( including tab, space, endline(?) )|(none)|\n",
    "|\\S| non whitespace|(none)|\n",
    "|\\w| word characters|(none)|\n",
    "|\\W| non words|(none)|\n"
   ]
  },
  {
   "cell_type": "code",
   "execution_count": 13,
   "metadata": {},
   "outputs": [
    {
     "data": {
      "text/plain": [
       "['wor']"
      ]
     },
     "execution_count": 13,
     "metadata": {},
     "output_type": "execute_result"
    }
   ],
   "source": [
    "# Examples:\n",
    "pattern2 = \"gr[a|e]y\"\n",
    "pattern3 = \"wo[^o]\" # Not \"woo\"\n",
    "pattern4 = \"[a-mA-M][n-zN-Z]\"  # two character classes =  2 characters, the first from a-m/A-M, the second from the second half of alphabets\n",
    "pattern5 = \"[1-5][0-9]\" # Two digits number: from 10-59.\n",
    "pattern6 = \"\\s\\S\"  # a space followed by non space\n",
    "\n",
    "# replace the pattern to see the output\n",
    "re.findall(pattern3, text)"
   ]
  },
  {
   "cell_type": "markdown",
   "metadata": {},
   "source": [
    "### 2. repetition qualifiers <------ check existence of directly previous character class.\n",
    "|qualifier|meaning|\n",
    "|---|---|\n",
    "| ? |optional appearance of the previous character|\n",
    "| \\+| one or more times of the previous character|\n",
    "| \\*| zero or more times of the previous character|\n",
    "| {n}| exactly n times of the previous character|\n",
    "| {n,m}| n-m times of the previous character|\n",
    "\n",
    "\n",
    "** Note: ? appears again later as a \"reluctant match\" **"
   ]
  },
  {
   "cell_type": "markdown",
   "metadata": {},
   "source": [
    "### 3. Bondary characters\n",
    "1. ^ start\n",
    "2. $ end\n",
    "\n",
    "** Note: ^ appears earlier as a \"not\" in character groups **"
   ]
  },
  {
   "cell_type": "code",
   "execution_count": 40,
   "metadata": {},
   "outputs": [
    {
     "data": {
      "text/plain": [
       "['A',\n",
       " 'grey',\n",
       " 'Woodchunk',\n",
       " 'chunk',\n",
       " 'gray',\n",
       " 'wood',\n",
       " 'as',\n",
       " 'his',\n",
       " 'work',\n",
       " 'Haha',\n",
       " '2',\n",
       " '345',\n",
       " '10']"
      ]
     },
     "execution_count": 40,
     "metadata": {},
     "output_type": "execute_result"
    }
   ],
   "source": [
    "# Examples:\n",
    "# Repetition qualifiers.\n",
    "pattern7 = \"wood?\"  # This means match wood or woo.\n",
    "pattern8 = \"wood??\"# This means match wood or woo, but as short as possible.\n",
    "pattern9 = \"\\w+\"     # This match as long as possible where ever there is \"\\w\"\n",
    "pattern10 = \"\\s\\w{3,5}\\s\"  # Returns including the whitespaces around\n",
    "pattern11 = \"[1-9]\\d*\"\n",
    "pattern12 = \"06[1-5][1-9][0-9]{6}\"\n",
    "\n",
    "\n",
    "# 3. Bondary characters\n",
    "pattern13 = \"\\w$\"  # return empty [''] since the last character is not a word\n",
    "pattern14= \"^\\w\" # return ['H']\n",
    "\n",
    "re.findall(pattern9, text)\n"
   ]
  },
  {
   "cell_type": "markdown",
   "metadata": {},
   "source": [
    "### 4.  capturing groups () <--- only return the part in the (    )\n",
    "\n",
    "* None-capturing groups: (?:  ) . Capture but not return this part!\n",
    "* can capture more than once! (one in another).  return like a list (see exercise pattern 15)\n",
    "\n",
    "\n"
   ]
  },
  {
   "cell_type": "code",
   "execution_count": 35,
   "metadata": {},
   "outputs": [
    {
     "name": "stdout",
     "output_type": "stream",
     "text": [
      "[]\n",
      "['important']\n"
     ]
    }
   ],
   "source": [
    "text2 = \"First Name: Liting, Last Name: Chen, Email: alicechen@gmail.com, Telephone: 06-47831990\"\n",
    "pattern15 = \"Name:\\s(\\w+)\"\n",
    "text3 = \"Bold fond marks <b>important</b> words.\"\n",
    "pattern16 = '<b>(\\w+)</b>'\n",
    "pattern17 = '((\\w+)\\W(g\\w+))'\n",
    "pattern18 = '((\\w+)\\W(?:g\\w+))'\n",
    "\n",
    "print(re.findall(pattern14, text2))\n",
    "print(re.findall(pattern14, text3))"
   ]
  },
  {
   "cell_type": "markdown",
   "metadata": {},
   "source": [
    "### 5. Configuring groups\n",
    "\n",
    "* (?i) = ignore case   <----- most useful!\n",
    "* (?m) = multiline\n",
    "* (?a) = non ascii character\n",
    "* (?L) = local\n",
    "* (?s) = dot matches all\n",
    "* (?u) = unicode characters\n",
    "* (?x) = verbose\n",
    "\n",
    "** (?i) is the most useful one. **\n"
   ]
  },
  {
   "cell_type": "code",
   "execution_count": 37,
   "metadata": {},
   "outputs": [
    {
     "name": "stdout",
     "output_type": "stream",
     "text": [
      "['Wood', 'wood']\n",
      "['Pdf', 'pdf', 'PDF']\n"
     ]
    }
   ],
   "source": [
    "# Examples\n",
    "pattern19 = \"(?i)wood\"\n",
    "pattern20 = \"(?i)pdf\"\n",
    "print(re.findall(pattern17,text))\n",
    "print(re.findall(pattern18,\"Pdf, pdf, PDF, jpeg, JPEG, JPG\"))\n"
   ]
  },
  {
   "cell_type": "markdown",
   "metadata": {},
   "source": [
    "### 6. Greedy behaviour\n",
    ".re by default its behaviour is greedy! Only stop when it cannot be longer. But it does not stop the smaller match.  \n",
    "\n",
    "If you want to stop it as soon as it matches ( = non-greedy, reluctant), add an ?"
   ]
  },
  {
   "cell_type": "code",
   "execution_count": 39,
   "metadata": {},
   "outputs": [
    {
     "name": "stdout",
     "output_type": "stream",
     "text": [
      "['Anna-Lena']\n",
      "['Anna']\n",
      "['A', 'grey', 'Woodchunk', 'chunk', 'gray', 'wood', 'as', 'his', 'work', 'Haha', '2', '345', '10']\n",
      "['A', 'g', 'r', 'e', 'y', 'W', 'o', 'o', 'd', 'c', 'h', 'u', 'n', 'k', 'c', 'h', 'u', 'n', 'k', 'g', 'r', 'a', 'y', 'w', 'o', 'o', 'd', 'a', 's', 'h', 'i', 's', 'w', 'o', 'r', 'k', 'H', 'a', 'h', 'a', '2', '3', '4', '5', '1', '0']\n"
     ]
    }
   ],
   "source": [
    "pattern21 = \"A.*a\"\n",
    "pattern22 = \"A.*?a\"  # ? non greedy!\n",
    "name = \"Anna-Lena\"\n",
    "print(re.findall(pattern21, name))\n",
    "print(re.findall(pattern22,name))\n",
    "\n",
    "pattern23 = \"\\w+\"\n",
    "pattern24 = \"\\w+?\"\n",
    "\n",
    "print(re.findall(pattern23, text))\n",
    "print(re.findall(pattern24, text))\n"
   ]
  },
  {
   "cell_type": "markdown",
   "metadata": {},
   "source": [
    "### Explore other re functions"
   ]
  },
  {
   "cell_type": "code",
   "execution_count": 42,
   "metadata": {},
   "outputs": [
    {
     "name": "stdout",
     "output_type": "stream",
     "text": [
      "<_sre.SRE_Match object; span=(0, 10), match='0647831991'>\n",
      "<_sre.SRE_Match object; span=(11, 16), match='chunk'>\n",
      "A grey WoodXXX XXX gray XXX as his work. Haha! 2-345+10-\n"
     ]
    }
   ],
   "source": [
    "matcher = re.match(pattern12,\"06478319910647831991jkl;\")\n",
    "print(matcher)\n",
    "\n",
    "# Try it your self:\n",
    "# re.fullmatch\n",
    "# re.search\n",
    "matcher2 = re.search(\"wood|chunk|woodchunk\",text)\n",
    "print(matcher2)\n",
    "\n",
    "# re.sub\n",
    "# for substitution\n",
    "text_new = re.sub(\"wood|chunk|woodchunk\",\"XXX\",text)\n",
    "print(text_new)\n"
   ]
  },
  {
   "cell_type": "markdown",
   "metadata": {},
   "source": [
    "### Thank you! Please leave your comment!\n",
    "\n",
    "Edited: 05/05/2018, Lit"
   ]
  }
 ],
 "metadata": {
  "kernelspec": {
   "display_name": "Python 3",
   "language": "python",
   "name": "python3"
  },
  "language_info": {
   "codemirror_mode": {
    "name": "ipython",
    "version": 3
   },
   "file_extension": ".py",
   "mimetype": "text/x-python",
   "name": "python",
   "nbconvert_exporter": "python",
   "pygments_lexer": "ipython3",
   "version": "3.6.3"
  }
 },
 "nbformat": 4,
 "nbformat_minor": 2
}
