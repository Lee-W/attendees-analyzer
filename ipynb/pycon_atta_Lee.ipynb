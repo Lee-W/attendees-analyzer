{
 "cells": [
  {
   "cell_type": "code",
   "execution_count": 79,
   "metadata": {},
   "outputs": [],
   "source": [
    "import pandas as pd\n",
    "import seaborn as sns\n",
    "import matplotlib.pyplot as plt\n",
    "import numpy as np\n",
    "import re\n",
    "import collections\n",
    "# This allows chinese characters to show up in figures. \n",
    "sns.set_style(\"darkgrid\",{\"font.sans-serif\":['simhei', 'Arial']})"
   ]
  },
  {
   "cell_type": "markdown",
   "metadata": {},
   "source": [
    "### Variables"
   ]
  },
  {
   "cell_type": "code",
   "execution_count": 80,
   "metadata": {},
   "outputs": [],
   "source": [
    "\n",
    "######\n",
    "##Variables\n",
    "data_path = {'2016':'./data/2016Attendees.csv','2017':'./data/2017Attendees.csv'} \n",
    "#Extract target contents for different years:\n",
    "useful_col_rename = {'2016':[(7,'paid date'),(10,'nationality'),(11,'gender'),(12,'company'),(13,'job_title')],\n",
    "                     '2017':[(6,'paid date'),(9,'nationality'),(10,'gender'),(11,'company'),(12,'job_title')]}\n"
   ]
  },
  {
   "cell_type": "markdown",
   "metadata": {},
   "source": [
    "### Functions"
   ]
  },
  {
   "cell_type": "code",
   "execution_count": 152,
   "metadata": {},
   "outputs": [],
   "source": [
    "# Merge one type of datas with different years into a dataframe\n",
    "def merge_valuecount(column_name,df_dict): #e.g. merge('gender',data_dict)\n",
    "    count_list=[]\n",
    "    for year in df_dict:\n",
    "        tmp_count = pd.DataFrame(df_dict[year][column_name].value_counts())\n",
    "        tmp_count.rename(index=str,columns={column_name:year},inplace=True)\n",
    "        count_list.append(tmp_count)\n",
    "    return pd.concat(count_list,sort=True,axis=1)"
   ]
  },
  {
   "cell_type": "code",
   "execution_count": 208,
   "metadata": {},
   "outputs": [],
   "source": [
    "def merge_for_plot(column_name,df_dict):\n",
    "    tmp_list=[]\n",
    "    for year in df_dict:\n",
    "        for i in range(len(df_dict[year][column_name])):\n",
    "            tmp_list.append((year,df_dict[year][column_name][i]))\n",
    "    return tmp_list"
   ]
  },
  {
   "cell_type": "code",
   "execution_count": 81,
   "metadata": {},
   "outputs": [],
   "source": [
    "# Build a function to categorize attendees with job titles and company names\n",
    "def cat_job(data):\n",
    "    title = str(data['job_title'])\n",
    "    company = str(data['company'])\n",
    "    \n",
    "    ## job title pattern dictionary\n",
    "    # The first listed will be categorized last, so there is an ascending priority here\n",
    "    pd_title = collections.OrderedDict()\n",
    "    pd_title['freelancer'] = \"(?i)self[ -]employed|freelancer\"\n",
    "    pd_title['consultant'] = \"(?i)consultant|顧問\"\n",
    "    pd_title['other manager'] = \"(?i)manager|C.O|supervisor|PM|founder|經理|.*長$|總裁|管理師|創辦人\"\n",
    "    # to be fixed: I failed to detect 'xx長' with the expression \".*長$\"\n",
    "    pd_title['other engineer'] = \"(?i)engineer|eng|developer|analyst|工程師|分析師\"\n",
    "    # to be improved: eng\n",
    "    pd_title['sales'] = \"(?i)sales\"\n",
    "    pd_title['R&D'] = \"(?i)rd|r&d|research and development|研發\"\n",
    "    pd_title['IT'] = \"(?i)information|software|sw|soft|backend|data|system|network|machine learning|android|ios|iot|F2E|\"\\\n",
    "                     \"FAE|AP|programmer|automation|cloud|前端|程式|資訊|軟體|韌體|資安|系統|自動化|sofeware\"\n",
    "    # to be improved: iot, ios, ap (you'll get 'idiot', 'adios', etc.)\n",
    "    pd_title['academia'] = \"(?i)postdoc|professor|教務\"\n",
    "    pd_title['government'] = \"技正\"\n",
    "    # This is to categorize 技正 working in public research institutes into \"government\" instead of \"academia\"\n",
    "    pd_title['student'] = \"(?i)student|學生\"\n",
    "    \n",
    "    ## company pattern dictionary\n",
    "    pd_company = collections.OrderedDict()\n",
    "    pd_company['government'] = \"委會\"\n",
    "    # to categorize everyone else working in the governmental organizations into \"government\"\n",
    "    pd_company['academia'] = \"(?i)university|academia|大學|學院|研究院|研院|中科院\"\n",
    "    # to categorize everyone else working in reserach institutes into \"academia\"\n",
    "    \n",
    "    # to run categorization with job titles\n",
    "    job_cat = ''\n",
    "    for pattern in pd_title:\n",
    "        if re.search(pd_title[pattern], title) is not None:\n",
    "            job_cat = pattern\n",
    "        else:\n",
    "            pass\n",
    "    # for those uncategorized, run categorization with companies\n",
    "    for pattern1 in pd_company:\n",
    "        if re.search(pd_company[pattern1], company) is not None and job_cat == '':\n",
    "            job_cat = pattern1\n",
    "                \n",
    "    return job_cat"
   ]
  },
  {
   "cell_type": "code",
   "execution_count": 54,
   "metadata": {},
   "outputs": [],
   "source": [
    "def cat_title(title):\n",
    "    \"\"\"\n",
    "    Return the category of a given title.\n",
    "\n",
    "    >>> cat_title(\"工程師\")\n",
    "    'Engineer'\n",
    "\n",
    "    \"\"\"\n",
    "    title = str(title)\n",
    "    pattern_dic = collections.OrderedDict()\n",
    "    pattern_dic['Potential Job Seeker'] = \"(?i)待業|Home|job|自由業|助理[^教授]|\" \\\n",
    "                                          \"Freelance|self-employed|無|0|沒有人|nobody|nan|自由業|none\"\n",
    "    # 助理 could be a temporary job therefore potential job seeker, but not 助理教授\n",
    "    pattern_dic['Head'] = \"(?i)C.O|chief|lead|chair|director|長|總|founder\"\n",
    "    pattern_dic['Manager'] = \"(?i)manager|[^助]理|pm\"\n",
    "    pattern_dic['Engineer'] = \"(?i)[engineer]{6,}|engr|develop|code|software|工程師|碼|程式|資訊|program|\" \\\n",
    "                              \"軟體|設計|IT|Analysts|SW|AP|PG|F2E|DevOps|architect|^R.*D$|開發|bug|hacker\"\n",
    "    #'設計'有點不精確...\n",
    "    pattern_dic['Student'] = \"學生|(?i)student\"\n",
    "    pattern_dic['Academia'] = \"(?i)phd|博|postdoc|research|研究|PI|professor|教授\"\n",
    "    pattern_dic['Data Scientist'] = \"(?i)data|資料|使用|經驗|分析|scientist\"\n",
    "    pattern_dic['Consultant'] =  \"(?i)consultant|顧問\"\n",
    "\n",
    "    title_cat = ''\n",
    "    for pattern in pattern_dic:\n",
    "        if re.search(pattern_dic[pattern], title) is not None:\n",
    "            title_cat = pattern\n",
    "        else:\n",
    "            pass\n",
    "    return title_cat\n"
   ]
  },
  {
   "cell_type": "markdown",
   "metadata": {},
   "source": [
    "### Main Function"
   ]
  },
  {
   "cell_type": "markdown",
   "metadata": {},
   "source": [
    "** import data ,extract useful column and rename**"
   ]
  },
  {
   "cell_type": "code",
   "execution_count": 219,
   "metadata": {},
   "outputs": [],
   "source": [
    "rawdata_dict = {}\n",
    "data_dict = {}\n",
    "for year in data_path:\n",
    "    rawdata_dict[year] = pd.read_csv(data_path[year])\n",
    "#print(rawdata_dict['2016'].head())\n",
    "\n",
    "## Extract target contents\n",
    "for year in rawdata_dict:\n",
    "    tmp_name_list = [(rawdata_dict[year].columns.values[i[0]],i[1]) for i in useful_col_rename[year]]\n",
    "    # change [(11,'gender',...] into [(Gender/性別,'gender'),...]\n",
    "    renamed_data_tmp = rawdata_dict[year].rename(index=str,columns=dict(tmp_name_list))\n",
    "    data_dict[year] = renamed_data_tmp.iloc[ : , [i[0] for i in useful_col_rename[year]] ]\n",
    "#data_dict['2017'].head()"
   ]
  },
  {
   "cell_type": "markdown",
   "metadata": {},
   "source": [
    "** compare datas with different years **"
   ]
  },
  {
   "cell_type": "markdown",
   "metadata": {},
   "source": [
    "** compare 'gender' **"
   ]
  },
  {
   "cell_type": "code",
   "execution_count": 218,
   "metadata": {},
   "outputs": [
    {
     "name": "stdout",
     "output_type": "stream",
     "text": [
      "             2016  2017\n",
      "Female / 女性    41    84\n",
      "Male / 男性     276   484\n"
     ]
    }
   ],
   "source": [
    "gender_compare = merge_valuecount('gender',data_dict)\n",
    "print(gender_compare)"
   ]
  },
  {
   "cell_type": "markdown",
   "metadata": {},
   "source": [
    "** I don't know how to plot the following figure via gender_compare, so I change the form into gender_total **"
   ]
  },
  {
   "cell_type": "code",
   "execution_count": 217,
   "metadata": {},
   "outputs": [
    {
     "data": {
      "text/plain": [
       "<matplotlib.axes._subplots.AxesSubplot at 0x9184ed0>"
      ]
     },
     "execution_count": 217,
     "metadata": {},
     "output_type": "execute_result"
    },
    {
     "data": {
      "image/png": "[encoded data removed]",
      "text/plain": [
       "<matplotlib.figure.Figure at 0x91ebc70>"
      ]
     },
     "metadata": {},
     "output_type": "display_data"
    }
   ],
   "source": [
    "gender_total = pd.DataFrame(merge_for_plot('gender',data_dict),columns=['year','gender'])\n",
    "#gender_total\n",
    "sns.countplot(x='year',data = gender_total,hue='gender')\n"
   ]
  },
  {
   "cell_type": "markdown",
   "metadata": {},
   "source": [
    "** compare 'nationality' **"
   ]
  },
  {
   "cell_type": "code",
   "execution_count": 221,
   "metadata": {},
   "outputs": [
    {
     "data": {
      "text/plain": [
       "<matplotlib.axes._subplots.AxesSubplot at 0xb04dc90>"
      ]
     },
     "execution_count": 221,
     "metadata": {},
     "output_type": "execute_result"
    },
    {
     "data": {
      "image/png": "[encoded data removed]",
      "text/plain": [
       "<matplotlib.figure.Figure at 0x2ded850>"
      ]
     },
     "metadata": {},
     "output_type": "display_data"
    }
   ],
   "source": [
    "nationality_total = pd.DataFrame(merge_for_plot('nationality',data_dict),columns=['year','nationality'])\n",
    "plt.subplots(figsize=(16,6))\n",
    "sns.countplot(x='nationality',data = nationality_total,hue='year')"
   ]
  },
  {
   "cell_type": "code",
   "execution_count": null,
   "metadata": {},
   "outputs": [],
   "source": []
  }
 ],
 "metadata": {
  "kernelspec": {
   "display_name": "Python 3",
   "language": "python",
   "name": "python3"
  },
  "language_info": {
   "codemirror_mode": {
    "name": "ipython",
    "version": 3
   },
   "file_extension": ".py",
   "mimetype": "text/x-python",
   "name": "python",
   "nbconvert_exporter": "python",
   "pygments_lexer": "ipython3",
   "version": "3.6.2"
  }
 },
 "nbformat": 4,
 "nbformat_minor": 2
}
