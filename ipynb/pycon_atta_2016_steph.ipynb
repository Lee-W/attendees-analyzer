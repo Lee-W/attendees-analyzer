{
 "cells": [
  {
   "cell_type": "code",
   "execution_count": 1,
   "metadata": {},
   "outputs": [],
   "source": [
    "import pandas as pd\n",
    "import seaborn as sns\n",
    "import matplotlib.pyplot as plt\n",
    "import numpy as np\n",
    "import re\n",
    "import collections\n",
    "\n",
    "# This allows chinese characters to show up in figures. \n",
    "sns.set_style(\"darkgrid\",{\"font.sans-serif\":['simhei', 'Arial']})"
   ]
  },
  {
   "cell_type": "code",
   "execution_count": null,
   "metadata": {},
   "outputs": [],
   "source": [
    "# Import data\n",
    "raw = pd.read_csv(\"event-pycontw2016-ocf-attendees-20180510-235011-rm-personal-identity.csv\")\n",
    "raw.head()"
   ]
  },
  {
   "cell_type": "code",
   "execution_count": 3,
   "metadata": {},
   "outputs": [
    {
     "data": {
      "text/plain": [
       "378"
      ]
     },
     "execution_count": 3,
     "metadata": {},
     "output_type": "execute_result"
    }
   ],
   "source": [
    "# Show number of attendees\n",
    "len(raw)"
   ]
  },
  {
   "cell_type": "code",
   "execution_count": null,
   "metadata": {},
   "outputs": [],
   "source": [
    "# Extract target contents\n",
    "data = raw.iloc[:,10:14]\n",
    "data.head()"
   ]
  },
  {
   "cell_type": "code",
   "execution_count": null,
   "metadata": {},
   "outputs": [],
   "source": [
    "# Rename columns\n",
    "data.rename(index=str, columns=\n",
    "            {data.columns.values[0]:\"nationality\",\n",
    "             data.columns.values[1]:\"gender\",\n",
    "             data.columns.values[2]:\"company\",\n",
    "             data.columns.values[3]:\"job_title\",\n",
    "            }, inplace=True)\n",
    "data.head()"
   ]
  },
  {
   "cell_type": "code",
   "execution_count": 6,
   "metadata": {},
   "outputs": [
    {
     "data": {
      "text/plain": [
       "<matplotlib.axes._subplots.AxesSubplot at 0x102967748>"
      ]
     },
     "execution_count": 6,
     "metadata": {},
     "output_type": "execute_result"
    },
    {
     "data": {
      "image/png": "[encoded data removed]",
      "text/plain": [
       "<matplotlib.figure.Figure at 0x1048ab5c0>"
      ]
     },
     "metadata": {},
     "output_type": "display_data"
    }
   ],
   "source": [
    "# Plot genders\n",
    "sns.countplot(x='gender', data=data)"
   ]
  },
  {
   "cell_type": "code",
   "execution_count": 7,
   "metadata": {},
   "outputs": [
    {
     "data": {
      "text/plain": [
       "<matplotlib.axes._subplots.AxesSubplot at 0x102980748>"
      ]
     },
     "execution_count": 7,
     "metadata": {},
     "output_type": "execute_result"
    },
    {
     "data": {
      "image/png": "[encoded data removed]",
      "text/plain": [
       "<matplotlib.figure.Figure at 0x1048aba20>"
      ]
     },
     "metadata": {},
     "output_type": "display_data"
    }
   ],
   "source": [
    "# Plot nationalities\n",
    "plt.subplots(figsize=(15,4))\n",
    "sns.countplot(x='nationality',data=data)"
   ]
  },
  {
   "cell_type": "code",
   "execution_count": 8,
   "metadata": {},
   "outputs": [
    {
     "name": "stdout",
     "output_type": "stream",
     "text": [
      "Company count: 157 \n",
      "\n",
      "Appier         7\n",
      "QNAP           5\n",
      "Trend Micro    5\n",
      "中央研究院          3\n",
      "Mediatek       3\n",
      "杭特電子股份有限公司     3\n",
      "Vynca          3\n",
      "NUUO Inc.      3\n",
      "Synology       3\n",
      "Name: company, dtype: int64 \n",
      "\n",
      "['京晨' nan 'Trend Micro' 'Infortrend' 'athentek' 'Athentek' 'NUUO Inc.'\n",
      " 'Lbstek' 'Allion Labs Inc.' 'TrendMicro' 'Trend Micro, Inc.' '小小胖有限公司'\n",
      " 'IBM' 'Vynca' '誠致教育基金會' '野生叢林股份有限公司' 'Trendmicro' 'Promise Tech.' '台達電子'\n",
      " 'ITRI' 'pinkoi' 'Entegris' 'Vivotek' 'Synology Inc.' 'Synology' '晶睿通訊'\n",
      " 'AFOP' 'foundi.info' '程沛' 'Kono Digital Inc.' 'Sixnology' 'Micron'\n",
      " 'Tiger Party' '朝陽科技大學' 'IISI' 'KosmosBanking' 'NCCST' '木刻思股份有限公司' '大數軟體'\n",
      " 'A10 Networks' '政治大學應用數學系' 'oneplus' 'Lilee' '和沛科技' 'ASIAA'\n",
      " 'FATEK Automation' '科盛科技 Moldex3D' 'LINE Taiwan' 'Syscom'\n",
      " 'Muvee Technologies Pte Ltd' 'YAHOO' 'Toshiba' '台灣卡普空' '均一教育平台'\n",
      " 'Academia Sinica' 'Cepave' 'Hualun Technology Co., Ltd.' 'QNAP'\n",
      " 'TutorABC' 'trendmicro' '國立陽明大學' 'Soho' 'gnoon soft' 'yam' 'ProphetStor'\n",
      " 'Appier' 'Canonical' 'Marvell' 'Hardcore Tech.' '秀育企業' '艾迪互動股份有限公司'\n",
      " 'Splunk Inc.' '國研院科技政策中心' 'Tripresso' 'tsmc' 'OnePlus' 'TomTom' 'Ruckus'\n",
      " 'COMPAL' 'KKBOX' '中央研究院' '木刻思' '桃園創新技術學院' '中山科學研究院' 'Vecs Gardenia'\n",
      " '一零四資訊科技股份有限公司' 'TigerPartyTaipei' '露天拍賣' 'Compal' 'vtc' 'Ocerp' 'Splunk'\n",
      " '淇譽電子JazzSpeaker' 'CGCG' 'mediatek' 'HPE' 'citiesocial.com'\n",
      " 'Atelier Naomi' 'VMFive, Inc.' 'Synopsys' '集英信誠' '現觀科技' 'USD' '中研院資訊所'\n",
      " '叡揚資訊' 'TSMC' '臺北大學' 'Henda' '友愉股份有限公司' 'Sight Machine' 'ASUS' 'HopeBay'\n",
      " 'Quanta' 'VATTEN SOFT CORPORATION' '農委會' 'Spe3D' 'VMFive' '台積電' 'Acer'\n",
      " 'Microsoft' 'mtk' 'KaLug' 'National Taiwan University' 'Rayark Inc.'\n",
      " 'BIG DATA Co., Ltd.' 'ASUSTOR' 'ZyXEL' 'roKKi.com' 'Thecus' 'Mediatek'\n",
      " 'Trubuzz' '國立臺灣師範大學' '杭特電子股份有限公司' 'WeatherRisk Explore Inc.' 'appier'\n",
      " 'GliaCloud' '登豐科技' '交通大學' 'Lab317' 'Acer eDC' 'Garmin' 'Abagile'\n",
      " 'MediaTek' '美商西思艾科技股份有限公司台北分公司' '朝友工業' '互動數位國際股份有限公司' '狐狸坑' '個體網際資訊工坊'\n",
      " '雲灣資訊' 'Dimerco Data system' 'Lumens' '普安科技' 'Yobi3D inc.' '英華達股份有限公司'\n",
      " 'Excetek' 'Kinpo Electronics, Inc.' '天主教輔仁大學']\n"
     ]
    }
   ],
   "source": [
    "# Count companies\n",
    "print('Company count:', len(data['company'].unique()), '\\n')\n",
    "print(data['company'].value_counts()[0:9],'\\n')\n",
    "\n",
    "# Show all unique companies\n",
    "print(data['company'].unique())"
   ]
  },
  {
   "cell_type": "code",
   "execution_count": 9,
   "metadata": {},
   "outputs": [
    {
     "name": "stdout",
     "output_type": "stream",
     "text": [
      "Job titles count: 111 \n",
      "\n",
      "Engineer             16\n",
      "Software Engineer    14\n",
      "工程師                  14\n",
      "軟體工程師                 8\n",
      "RD                    7\n",
      "Senior Engineer       5\n",
      "學生                    4\n",
      "資深工程師                 3\n",
      "Developer             3\n",
      "Name: job_title, dtype: int64 \n",
      "\n",
      "[nan 'Sr. Engineer' 'RD' 'Senior Engineer' 'R&D Section Manager'\n",
      " 'backend engineer' '軟體工程師' 'Engineer' 'swRD' 'Software Engineer'\n",
      " 'Senior Software Engineer' '資深軟體工程師' 'R&D' '共同創辦人' 'Staff engineer'\n",
      " 'R&D Engineer' 'Senior System Developer' '資深研發工程師' 'data engineer'\n",
      " 'System Engineer' 'Product Developer' 'Product Manager' 'Operator'\n",
      " 'Software Eng' '工程師' 'Machine Learning Engineer' '副教授' '資安工程師'\n",
      " 'Consultant' '伴讀書僮' 'CEO' 'engineer' 'Software engr.' '資深工程師' 'Postdoc'\n",
      " '軟體驗證工程師' 'Sofeware Engineer' 'Production Engineer' 'Research Assitant'\n",
      " '資深新手' 'Sales' 'Senior Specialist' '學生' 'IoT/M2M Architect' '主任工程師'\n",
      " 'Performance engineer' '助理研究員' '資料工程師' 'eng' 'SW engineer' 'Developer'\n",
      " '資訊人員' '副教務長' '技正' 'CMO' 'HR' 'SoftwareEngineer' '研究員' 'ap' '韌體工程師'\n",
      " '3D Artist' 'Research and Development' 'Cloud Engineer' '雜工' 'Professor'\n",
      " '研究助理' '專案管理師' '系統分析師' 'ENGINEER' 'Tech Lead' 'Project Manager'\n",
      " 'Senior Application Engineer' 'software engineer' 'category executive'\n",
      " 'Senior Automation Engineer' 'Senior Soft Engineer' '計畫人員' '替代役'\n",
      " 'Tech. supervisor' '自動化工程師' 'Partner Sales Executive' 'Software RD'\n",
      " 'echo' '分析師' 'Network Engineer' 'Backend Developer' 'Programmer' '博士後研究員'\n",
      " 'Technical Design Engineer' '系統工程師' 'FAE Engineer' '專案助理' '經理' '資訊工程師'\n",
      " '前端工程師' 'F2E' 'Backend Engineer' 'Machine Learning Scientist'\n",
      " 'Senior Engieer' 'QA Engineer' '資深專案工程師' 'iOS developer' '打雜工'\n",
      " 'iOS Developer' 'Freelancer' '地理資訊工程師' '負責人' 'senior system Enginner'\n",
      " '系統程式設計師' 'EE' 'Data Engineer']\n"
     ]
    }
   ],
   "source": [
    "# Count job titles\n",
    "print('Job titles count:', len(data['job_title'].unique()), '\\n')\n",
    "print(data['job_title'].value_counts()[0:9],'\\n')\n",
    "\n",
    "# Show all unique job titles\n",
    "print(data['job_title'].unique())"
   ]
  },
  {
   "cell_type": "code",
   "execution_count": 10,
   "metadata": {},
   "outputs": [],
   "source": [
    "# Build a function to categorize attendees with job titles and company names\n",
    "def cat_job(data):\n",
    "    title = str(data['job_title'])\n",
    "    company = str(data['company'])\n",
    "    \n",
    "    ## job title pattern dictionary\n",
    "    # The first listed will be categorized last, so there is an ascending priority here\n",
    "    pd_title = collections.OrderedDict()\n",
    "    pd_title['freelancer'] = \"(?i)self[ -]employed|freelancer\"\n",
    "    pd_title['consultant'] = \"(?i)consultant|顧問\"\n",
    "    pd_title['other manager'] = \"(?i)manager|C.O|supervisor|PM|founder|經理|.*長$|總裁|管理師|創辦人\"\n",
    "    # to be fixed: I failed to detect 'xx長' with the expression \".*長$\"\n",
    "    pd_title['other engineer'] = \"(?i)engineer|eng|developer|analyst|工程師|分析師\"\n",
    "    # to be improved: eng\n",
    "    pd_title['sales'] = \"(?i)sales\"\n",
    "    pd_title['R&D'] = \"(?i)rd|r&d|research and development|研發\"\n",
    "    pd_title['IT'] = \"(?i)information|software|sw|soft|backend|data|system|network|machine learning|android|ios|iot|F2E|\"\\\n",
    "                     \"FAE|AP|programmer|automation|cloud|前端|程式|資訊|軟體|韌體|資安|系統|自動化|sofeware\"\n",
    "    # to be improved: iot, ios, ap (you'll get 'idiot', 'adios', etc.)\n",
    "    pd_title['academia'] = \"(?i)postdoc|professor|教務\"\n",
    "    pd_title['government'] = \"技正\"\n",
    "    # This is to categorize 技正 working in public research institutes into \"government\" instead of \"academia\"\n",
    "    pd_title['student'] = \"(?i)student|學生\"\n",
    "    \n",
    "    ## company pattern dictionary\n",
    "    pd_company = collections.OrderedDict()\n",
    "    pd_company['government'] = \"委會\"\n",
    "    # to categorize everyone else working in the governmental organizations into \"government\"\n",
    "    pd_company['academia'] = \"(?i)university|academia|大學|學院|研究院|研院|中科院\"\n",
    "    # to categorize everyone else working in reserach institutes into \"academia\"\n",
    "    \n",
    "    # to run categorization with job titles\n",
    "    job_cat = ''\n",
    "    for pattern in pd_title:\n",
    "        if re.search(pd_title[pattern], title) is not None:\n",
    "            job_cat = pattern\n",
    "        else:\n",
    "            pass\n",
    "    # for those uncategorized, run categorization with companies\n",
    "    for pattern1 in pd_company:\n",
    "        if re.search(pd_company[pattern1], company) is not None and job_cat == '':\n",
    "            job_cat = pattern1\n",
    "                \n",
    "    return job_cat"
   ]
  },
  {
   "cell_type": "code",
   "execution_count": 11,
   "metadata": {},
   "outputs": [
    {
     "data": {
      "text/plain": [
       "'other manager'"
      ]
     },
     "execution_count": 11,
     "metadata": {},
     "output_type": "execute_result"
    }
   ],
   "source": [
    "# Test cat_job function\n",
    "co = ''\n",
    "job = 'cool' # For example job title 'cool' would be a failed case\n",
    "testset = {'company':[co], 'job_title':[job]}\n",
    "cat_job(testset)"
   ]
  },
  {
   "cell_type": "code",
   "execution_count": null,
   "metadata": {},
   "outputs": [],
   "source": [
    "# Categorize attendees using cat_job function\n",
    "data['job_category'] = data.apply(cat_job, axis=1)\n",
    "\n",
    "# Check uncategorized attendees (to see whether it is fair to mark them all as \"others\")\n",
    "data[data['job_title'].isna() == False][data['job_category'] == '']"
   ]
  },
  {
   "cell_type": "code",
   "execution_count": null,
   "metadata": {},
   "outputs": [],
   "source": [
    "# Extract attendees data with job titles (i.e. discard those rows without job titles)\n",
    "data1 = data[data['job_title'].isna() == False]\n",
    "\n",
    "# Categorize the uncategorized report_generatorndees in data1 into \"others\"\n",
    "data1.loc[data1['job_category']=='','job_category'] = 'others'\n",
    "data1.head()"
   ]
  },
  {
   "cell_type": "code",
   "execution_count": 14,
   "metadata": {},
   "outputs": [
    {
     "data": {
      "text/plain": [
       "182"
      ]
     },
     "execution_count": 14,
     "metadata": {},
     "output_type": "execute_result"
    }
   ],
   "source": [
    "# Number of attendees with job titles\n",
    "len(data1)"
   ]
  },
  {
   "cell_type": "code",
   "execution_count": 15,
   "metadata": {},
   "outputs": [
    {
     "data": {
      "text/plain": [
       "IT                67\n",
       "other engineer    58\n",
       "others            14\n",
       "R&D               13\n",
       "academia          11\n",
       "other manager      9\n",
       "student            4\n",
       "government         2\n",
       "sales              2\n",
       "freelancer         1\n",
       "consultant         1\n",
       "Name: job_category, dtype: int64"
      ]
     },
     "execution_count": 15,
     "metadata": {},
     "output_type": "execute_result"
    }
   ],
   "source": [
    "# Count job categories\n",
    "data1['job_category'].value_counts()"
   ]
  },
  {
   "cell_type": "code",
   "execution_count": 16,
   "metadata": {},
   "outputs": [
    {
     "data": {
      "text/plain": [
       "<matplotlib.axes._subplots.AxesSubplot at 0x1a09d4e208>"
      ]
     },
     "execution_count": 16,
     "metadata": {},
     "output_type": "execute_result"
    },
    {
     "data": {
      "image/png": "[encoded data removed]",
      "text/plain": [
       "<matplotlib.figure.Figure at 0x1036d6e48>"
      ]
     },
     "metadata": {},
     "output_type": "display_data"
    }
   ],
   "source": [
    "# Plot job categories \n",
    "plt.subplots(figsize=(16,6))\n",
    "sns.countplot('job_category', data=data1, \n",
    "              order=['IT','R&D','sales','other engineer','other manager','consultant','academia','student',\n",
    "                     'government','freelancer','others'])"
   ]
  },
  {
   "cell_type": "code",
   "execution_count": null,
   "metadata": {},
   "outputs": [],
   "source": [
    "# Check job categories\n",
    "cat = 'academia'\n",
    "data1[data1['job_category']== cat]"
   ]
  }
 ],
 "metadata": {
  "kernelspec": {
   "display_name": "Python 3",
   "language": "python",
   "name": "python3"
  },
  "language_info": {
   "codemirror_mode": {
    "name": "ipython",
    "version": 3
   },
   "file_extension": ".py",
   "mimetype": "text/x-python",
   "name": "python",
   "nbconvert_exporter": "python",
   "pygments_lexer": "ipython3",
   "version": "3.6.4"
  }
 },
 "nbformat": 4,
 "nbformat_minor": 2
}
